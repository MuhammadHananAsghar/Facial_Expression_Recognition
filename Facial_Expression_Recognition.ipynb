{
  "nbformat": 4,
  "nbformat_minor": 0,
  "metadata": {
    "colab": {
      "name": "Facial Expression Recognition.ipynb",
      "provenance": []
    },
    "kernelspec": {
      "name": "python3",
      "display_name": "Python 3"
    },
    "language_info": {
      "name": "python"
    },
    "accelerator": "GPU"
  },
  "cells": [
    {
      "cell_type": "code",
      "metadata": {
        "colab": {
          "resources": {
            "http://localhost:8080/nbextensions/google.colab/files.js": {
              "data": "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",
              "ok": true,
              "headers": [
                [
                  "content-type",
                  "application/javascript"
                ]
              ],
              "status": 200,
              "status_text": ""
            }
          },
          "base_uri": "https://localhost:8080/",
          "height": 73
        },
        "id": "thnm6bjxoTSH",
        "outputId": "d7dffc2c-0b17-4337-ea4e-684d8f5d185e"
      },
      "source": [
        "!pip install -q kaggle\n",
        "from google.colab import files\n",
        "files.upload()\n",
        "! mkdir ~/.kaggle\n",
        "! cp kaggle.json ~/.kaggle/\n",
        "! chmod 600 ~/.kaggle/kaggle.json"
      ],
      "execution_count": 2,
      "outputs": [
        {
          "output_type": "display_data",
          "data": {
            "text/html": [
              "\n",
              "     <input type=\"file\" id=\"files-61d75302-16dd-40e1-af03-b8fad5eb1d44\" name=\"files[]\" multiple disabled\n",
              "        style=\"border:none\" />\n",
              "     <output id=\"result-61d75302-16dd-40e1-af03-b8fad5eb1d44\">\n",
              "      Upload widget is only available when the cell has been executed in the\n",
              "      current browser session. Please rerun this cell to enable.\n",
              "      </output>\n",
              "      <script src=\"/nbextensions/google.colab/files.js\"></script> "
            ],
            "text/plain": [
              "<IPython.core.display.HTML object>"
            ]
          },
          "metadata": {
            "tags": []
          }
        },
        {
          "output_type": "stream",
          "text": [
            "Saving kaggle.json to kaggle.json\n"
          ],
          "name": "stdout"
        }
      ]
    },
    {
      "cell_type": "code",
      "metadata": {
        "colab": {
          "base_uri": "https://localhost:8080/"
        },
        "id": "R4JcG8edo00_",
        "outputId": "6c1e7fea-7645-456e-e0fe-0f9438ae3dc3"
      },
      "source": [
        "!kaggle datasets download -d shawon10/ckplus"
      ],
      "execution_count": 3,
      "outputs": [
        {
          "output_type": "stream",
          "text": [
            "Downloading ckplus.zip to /content\n",
            "\r  0% 0.00/3.63M [00:00<?, ?B/s]\n",
            "\r100% 3.63M/3.63M [00:00<00:00, 58.5MB/s]\n"
          ],
          "name": "stdout"
        }
      ]
    },
    {
      "cell_type": "code",
      "metadata": {
        "id": "6NlxJ2R6pgIA"
      },
      "source": [
        "import PIL\n",
        "import numpy as np\n",
        "import matplotlib.pyplot as plt\n",
        "import tensorflow as tf\n",
        "\n",
        "from tensorflow import keras\n",
        "from tensorflow.keras import layers\n",
        "from tensorflow.keras.models import Sequential\n",
        "from tensorflow.keras.optimizers import Adam\n",
        "from tensorflow.keras.callbacks import ModelCheckpoint"
      ],
      "execution_count": 7,
      "outputs": []
    },
    {
      "cell_type": "code",
      "metadata": {
        "id": "G-tmJFoPo9kn"
      },
      "source": [
        "!unzip *.zip && rm -rf *.zip"
      ],
      "execution_count": null,
      "outputs": []
    },
    {
      "cell_type": "code",
      "metadata": {
        "id": "4dbveK_spXMS"
      },
      "source": [
        "batch_size=8\n",
        "img_width = 38\n",
        "img_height = 38"
      ],
      "execution_count": 8,
      "outputs": []
    },
    {
      "cell_type": "code",
      "metadata": {
        "colab": {
          "base_uri": "https://localhost:8080/"
        },
        "id": "Cw5QjTuppeXx",
        "outputId": "00e954e9-6246-45b7-dcad-8b50b515ed99"
      },
      "source": [
        "dataset_path = \"/content/CK+48\"\n",
        "train_ds = tf.keras.preprocessing.image_dataset_from_directory(\n",
        "    dataset_path,\n",
        "    seed=123,\n",
        "    image_size=(img_width, img_height),\n",
        "    batch_size=batch_size,\n",
        "    validation_split=0.2,\n",
        "    subset=\"training\"\n",
        ")\n",
        "\n",
        "validation_ds = tf.keras.preprocessing.image_dataset_from_directory(\n",
        "    dataset_path,\n",
        "    seed=123,\n",
        "    image_size=(img_width, img_height),\n",
        "    batch_size=batch_size,\n",
        "    validation_split=0.2,\n",
        "    subset=\"validation\"\n",
        ")"
      ],
      "execution_count": 9,
      "outputs": [
        {
          "output_type": "stream",
          "text": [
            "Found 981 files belonging to 7 classes.\n",
            "Using 785 files for training.\n",
            "Found 981 files belonging to 7 classes.\n",
            "Using 196 files for validation.\n"
          ],
          "name": "stdout"
        }
      ]
    },
    {
      "cell_type": "code",
      "metadata": {
        "colab": {
          "base_uri": "https://localhost:8080/"
        },
        "id": "Ns7WiAgeqSIo",
        "outputId": "585ef89e-5238-4028-8fc9-424d31a5f376"
      },
      "source": [
        "class_names = train_ds.class_names\n",
        "num_classes = len(class_names)\n",
        "print(class_names, num_classes)"
      ],
      "execution_count": 10,
      "outputs": [
        {
          "output_type": "stream",
          "text": [
            "['anger', 'contempt', 'disgust', 'fear', 'happy', 'sadness', 'surprise'] 7\n"
          ],
          "name": "stdout"
        }
      ]
    },
    {
      "cell_type": "code",
      "metadata": {
        "id": "x65U5NaSqe7y"
      },
      "source": [
        "AUTOTUNE = tf.data.AUTOTUNE\n",
        "\n",
        "train_ds = train_ds.cache().shuffle(1000).prefetch(buffer_size=AUTOTUNE)\n",
        "validation_ds = validation_ds.cache().prefetch(buffer_size=AUTOTUNE)"
      ],
      "execution_count": 11,
      "outputs": []
    },
    {
      "cell_type": "code",
      "metadata": {
        "id": "wDn6wEGDq04C"
      },
      "source": [
        "data_augmentation = keras.Sequential(\n",
        "  [\n",
        "    layers.experimental.preprocessing.RandomFlip(\"horizontal\", \n",
        "                                                 input_shape=(img_height, \n",
        "                                                              img_width,\n",
        "                                                              3)),\n",
        "    layers.experimental.preprocessing.RandomRotation(0.1),\n",
        "    layers.experimental.preprocessing.RandomZoom(0.1),\n",
        "  ]\n",
        ")"
      ],
      "execution_count": 12,
      "outputs": []
    },
    {
      "cell_type": "code",
      "metadata": {
        "id": "il9cJOJarAmM"
      },
      "source": [
        "model = Sequential([\n",
        "  data_augmentation,\n",
        "  layers.experimental.preprocessing.Rescaling(1./255),\n",
        "  layers.Conv2D(16, 3, padding='same', activation='relu'),\n",
        "  layers.MaxPooling2D(),\n",
        "  layers.Conv2D(32, 3, padding='same', activation='relu'),\n",
        "  layers.MaxPooling2D(),\n",
        "  layers.Conv2D(64, 3, padding='same', activation='relu'),\n",
        "  layers.MaxPooling2D(),\n",
        "  layers.Conv2D(128, 3, padding='same', activation='relu'),\n",
        "  layers.MaxPooling2D(),\n",
        "  layers.Dropout(0.2),\n",
        "  layers.Flatten(),\n",
        "  layers.Dense(1000, activation='relu'),\n",
        "  layers.Dense(num_classes)\n",
        "])"
      ],
      "execution_count": 13,
      "outputs": []
    },
    {
      "cell_type": "code",
      "metadata": {
        "colab": {
          "base_uri": "https://localhost:8080/"
        },
        "id": "AhHclw7KrDny",
        "outputId": "357bb066-b155-4412-f353-16b637cd6d22"
      },
      "source": [
        "model.summary()"
      ],
      "execution_count": 14,
      "outputs": [
        {
          "output_type": "stream",
          "text": [
            "Model: \"sequential_1\"\n",
            "_________________________________________________________________\n",
            "Layer (type)                 Output Shape              Param #   \n",
            "=================================================================\n",
            "sequential (Sequential)      (None, 38, 38, 3)         0         \n",
            "_________________________________________________________________\n",
            "rescaling (Rescaling)        (None, 38, 38, 3)         0         \n",
            "_________________________________________________________________\n",
            "conv2d (Conv2D)              (None, 38, 38, 16)        448       \n",
            "_________________________________________________________________\n",
            "max_pooling2d (MaxPooling2D) (None, 19, 19, 16)        0         \n",
            "_________________________________________________________________\n",
            "conv2d_1 (Conv2D)            (None, 19, 19, 32)        4640      \n",
            "_________________________________________________________________\n",
            "max_pooling2d_1 (MaxPooling2 (None, 9, 9, 32)          0         \n",
            "_________________________________________________________________\n",
            "conv2d_2 (Conv2D)            (None, 9, 9, 64)          18496     \n",
            "_________________________________________________________________\n",
            "max_pooling2d_2 (MaxPooling2 (None, 4, 4, 64)          0         \n",
            "_________________________________________________________________\n",
            "conv2d_3 (Conv2D)            (None, 4, 4, 128)         73856     \n",
            "_________________________________________________________________\n",
            "max_pooling2d_3 (MaxPooling2 (None, 2, 2, 128)         0         \n",
            "_________________________________________________________________\n",
            "dropout (Dropout)            (None, 2, 2, 128)         0         \n",
            "_________________________________________________________________\n",
            "flatten (Flatten)            (None, 512)               0         \n",
            "_________________________________________________________________\n",
            "dense (Dense)                (None, 1000)              513000    \n",
            "_________________________________________________________________\n",
            "dense_1 (Dense)              (None, 7)                 7007      \n",
            "=================================================================\n",
            "Total params: 617,447\n",
            "Trainable params: 617,447\n",
            "Non-trainable params: 0\n",
            "_________________________________________________________________\n"
          ],
          "name": "stdout"
        }
      ]
    },
    {
      "cell_type": "code",
      "metadata": {
        "id": "QqI9s50yrEvC"
      },
      "source": [
        "model.compile(optimizer=Adam(learning_rate=0.001),\n",
        "              loss=tf.keras.losses.SparseCategoricalCrossentropy(from_logits=True),\n",
        "              metrics=['accuracy'])"
      ],
      "execution_count": 16,
      "outputs": []
    },
    {
      "cell_type": "code",
      "metadata": {
        "colab": {
          "base_uri": "https://localhost:8080/"
        },
        "id": "tRYd98K2rKmy",
        "outputId": "90cee03d-2e1a-40cd-c27c-fbaf17d97ec9"
      },
      "source": [
        "checkpointer = ModelCheckpoint(filepath=\"face_emotions.hdf5\",\n",
        "                               verbose=1, save_best_only=True)\n",
        "\n",
        "num_epochs = 100\n",
        "history = model.fit(\n",
        "    train_ds,\n",
        "    epochs=num_epochs,\n",
        "    callbacks=[checkpointer],\n",
        "    validation_data=validation_ds,\n",
        "    verbose=1\n",
        ")"
      ],
      "execution_count": 17,
      "outputs": [
        {
          "output_type": "stream",
          "text": [
            "Epoch 1/100\n",
            "99/99 [==============================] - 31s 12ms/step - loss: 1.8565 - accuracy: 0.2331 - val_loss: 1.8062 - val_accuracy: 0.2500\n",
            "\n",
            "Epoch 00001: val_loss improved from inf to 1.80617, saving model to face_emotions.hdf5\n",
            "Epoch 2/100\n",
            "99/99 [==============================] - 1s 8ms/step - loss: 1.5567 - accuracy: 0.3592 - val_loss: 1.3202 - val_accuracy: 0.4541\n",
            "\n",
            "Epoch 00002: val_loss improved from 1.80617 to 1.32022, saving model to face_emotions.hdf5\n",
            "Epoch 3/100\n",
            "99/99 [==============================] - 1s 8ms/step - loss: 1.3042 - accuracy: 0.4599 - val_loss: 1.2269 - val_accuracy: 0.4541\n",
            "\n",
            "Epoch 00003: val_loss improved from 1.32022 to 1.22691, saving model to face_emotions.hdf5\n",
            "Epoch 4/100\n",
            "99/99 [==============================] - 1s 9ms/step - loss: 1.2401 - accuracy: 0.4662 - val_loss: 1.1244 - val_accuracy: 0.5510\n",
            "\n",
            "Epoch 00004: val_loss improved from 1.22691 to 1.12439, saving model to face_emotions.hdf5\n",
            "Epoch 5/100\n",
            "99/99 [==============================] - 1s 8ms/step - loss: 1.1971 - accuracy: 0.5299 - val_loss: 1.0718 - val_accuracy: 0.5663\n",
            "\n",
            "Epoch 00005: val_loss improved from 1.12439 to 1.07177, saving model to face_emotions.hdf5\n",
            "Epoch 6/100\n",
            "99/99 [==============================] - 1s 8ms/step - loss: 1.0716 - accuracy: 0.5796 - val_loss: 0.9177 - val_accuracy: 0.6224\n",
            "\n",
            "Epoch 00006: val_loss improved from 1.07177 to 0.91771, saving model to face_emotions.hdf5\n",
            "Epoch 7/100\n",
            "99/99 [==============================] - 1s 8ms/step - loss: 0.9100 - accuracy: 0.6306 - val_loss: 0.7925 - val_accuracy: 0.6684\n",
            "\n",
            "Epoch 00007: val_loss improved from 0.91771 to 0.79248, saving model to face_emotions.hdf5\n",
            "Epoch 8/100\n",
            "99/99 [==============================] - 1s 8ms/step - loss: 0.7984 - accuracy: 0.6943 - val_loss: 0.6731 - val_accuracy: 0.7602\n",
            "\n",
            "Epoch 00008: val_loss improved from 0.79248 to 0.67310, saving model to face_emotions.hdf5\n",
            "Epoch 9/100\n",
            "99/99 [==============================] - 1s 8ms/step - loss: 0.7613 - accuracy: 0.7185 - val_loss: 0.8584 - val_accuracy: 0.6684\n",
            "\n",
            "Epoch 00009: val_loss did not improve from 0.67310\n",
            "Epoch 10/100\n",
            "99/99 [==============================] - 1s 8ms/step - loss: 0.7015 - accuracy: 0.7363 - val_loss: 0.6811 - val_accuracy: 0.7092\n",
            "\n",
            "Epoch 00010: val_loss did not improve from 0.67310\n",
            "Epoch 11/100\n",
            "99/99 [==============================] - 1s 8ms/step - loss: 0.6523 - accuracy: 0.7541 - val_loss: 0.6677 - val_accuracy: 0.7653\n",
            "\n",
            "Epoch 00011: val_loss improved from 0.67310 to 0.66770, saving model to face_emotions.hdf5\n",
            "Epoch 12/100\n",
            "99/99 [==============================] - 1s 8ms/step - loss: 0.5728 - accuracy: 0.8013 - val_loss: 0.6012 - val_accuracy: 0.7857\n",
            "\n",
            "Epoch 00012: val_loss improved from 0.66770 to 0.60119, saving model to face_emotions.hdf5\n",
            "Epoch 13/100\n",
            "99/99 [==============================] - 1s 8ms/step - loss: 0.5427 - accuracy: 0.8013 - val_loss: 0.7421 - val_accuracy: 0.7296\n",
            "\n",
            "Epoch 00013: val_loss did not improve from 0.60119\n",
            "Epoch 14/100\n",
            "99/99 [==============================] - 1s 8ms/step - loss: 0.5309 - accuracy: 0.8064 - val_loss: 0.5790 - val_accuracy: 0.7704\n",
            "\n",
            "Epoch 00014: val_loss improved from 0.60119 to 0.57904, saving model to face_emotions.hdf5\n",
            "Epoch 15/100\n",
            "99/99 [==============================] - 1s 8ms/step - loss: 0.4657 - accuracy: 0.8204 - val_loss: 0.5123 - val_accuracy: 0.8061\n",
            "\n",
            "Epoch 00015: val_loss improved from 0.57904 to 0.51235, saving model to face_emotions.hdf5\n",
            "Epoch 16/100\n",
            "99/99 [==============================] - 1s 8ms/step - loss: 0.4967 - accuracy: 0.8115 - val_loss: 0.4108 - val_accuracy: 0.8367\n",
            "\n",
            "Epoch 00016: val_loss improved from 0.51235 to 0.41079, saving model to face_emotions.hdf5\n",
            "Epoch 17/100\n",
            "99/99 [==============================] - 1s 8ms/step - loss: 0.4391 - accuracy: 0.8293 - val_loss: 0.4944 - val_accuracy: 0.8214\n",
            "\n",
            "Epoch 00017: val_loss did not improve from 0.41079\n",
            "Epoch 18/100\n",
            "99/99 [==============================] - 1s 8ms/step - loss: 0.4206 - accuracy: 0.8471 - val_loss: 0.4580 - val_accuracy: 0.8367\n",
            "\n",
            "Epoch 00018: val_loss did not improve from 0.41079\n",
            "Epoch 19/100\n",
            "99/99 [==============================] - 1s 8ms/step - loss: 0.4270 - accuracy: 0.8382 - val_loss: 0.3913 - val_accuracy: 0.8571\n",
            "\n",
            "Epoch 00019: val_loss improved from 0.41079 to 0.39130, saving model to face_emotions.hdf5\n",
            "Epoch 20/100\n",
            "99/99 [==============================] - 1s 8ms/step - loss: 0.3626 - accuracy: 0.8637 - val_loss: 0.4619 - val_accuracy: 0.8571\n",
            "\n",
            "Epoch 00020: val_loss did not improve from 0.39130\n",
            "Epoch 21/100\n",
            "99/99 [==============================] - 1s 8ms/step - loss: 0.3598 - accuracy: 0.8701 - val_loss: 0.4413 - val_accuracy: 0.8316\n",
            "\n",
            "Epoch 00021: val_loss did not improve from 0.39130\n",
            "Epoch 22/100\n",
            "99/99 [==============================] - 1s 8ms/step - loss: 0.3640 - accuracy: 0.8624 - val_loss: 0.5840 - val_accuracy: 0.8418\n",
            "\n",
            "Epoch 00022: val_loss did not improve from 0.39130\n",
            "Epoch 23/100\n",
            "99/99 [==============================] - 1s 8ms/step - loss: 0.3258 - accuracy: 0.8726 - val_loss: 0.4097 - val_accuracy: 0.8776\n",
            "\n",
            "Epoch 00023: val_loss did not improve from 0.39130\n",
            "Epoch 24/100\n",
            "99/99 [==============================] - 1s 8ms/step - loss: 0.3153 - accuracy: 0.8803 - val_loss: 0.3773 - val_accuracy: 0.8418\n",
            "\n",
            "Epoch 00024: val_loss improved from 0.39130 to 0.37727, saving model to face_emotions.hdf5\n",
            "Epoch 25/100\n",
            "99/99 [==============================] - 1s 8ms/step - loss: 0.3534 - accuracy: 0.8713 - val_loss: 0.3238 - val_accuracy: 0.8776\n",
            "\n",
            "Epoch 00025: val_loss improved from 0.37727 to 0.32379, saving model to face_emotions.hdf5\n",
            "Epoch 26/100\n",
            "99/99 [==============================] - 1s 8ms/step - loss: 0.2894 - accuracy: 0.8866 - val_loss: 0.2933 - val_accuracy: 0.8980\n",
            "\n",
            "Epoch 00026: val_loss improved from 0.32379 to 0.29335, saving model to face_emotions.hdf5\n",
            "Epoch 27/100\n",
            "99/99 [==============================] - 1s 8ms/step - loss: 0.2766 - accuracy: 0.8943 - val_loss: 0.2617 - val_accuracy: 0.8980\n",
            "\n",
            "Epoch 00027: val_loss improved from 0.29335 to 0.26174, saving model to face_emotions.hdf5\n",
            "Epoch 28/100\n",
            "99/99 [==============================] - 1s 8ms/step - loss: 0.2922 - accuracy: 0.8930 - val_loss: 0.3832 - val_accuracy: 0.8827\n",
            "\n",
            "Epoch 00028: val_loss did not improve from 0.26174\n",
            "Epoch 29/100\n",
            "99/99 [==============================] - 1s 8ms/step - loss: 0.2770 - accuracy: 0.8955 - val_loss: 0.2617 - val_accuracy: 0.9082\n",
            "\n",
            "Epoch 00029: val_loss improved from 0.26174 to 0.26168, saving model to face_emotions.hdf5\n",
            "Epoch 30/100\n",
            "99/99 [==============================] - 1s 9ms/step - loss: 0.2339 - accuracy: 0.9146 - val_loss: 0.2650 - val_accuracy: 0.8878\n",
            "\n",
            "Epoch 00030: val_loss did not improve from 0.26168\n",
            "Epoch 31/100\n",
            "99/99 [==============================] - 1s 8ms/step - loss: 0.2496 - accuracy: 0.9096 - val_loss: 0.2867 - val_accuracy: 0.9184\n",
            "\n",
            "Epoch 00031: val_loss did not improve from 0.26168\n",
            "Epoch 32/100\n",
            "99/99 [==============================] - 1s 8ms/step - loss: 0.2750 - accuracy: 0.8943 - val_loss: 0.2962 - val_accuracy: 0.9082\n",
            "\n",
            "Epoch 00032: val_loss did not improve from 0.26168\n",
            "Epoch 33/100\n",
            "99/99 [==============================] - 1s 8ms/step - loss: 0.2794 - accuracy: 0.9019 - val_loss: 0.3898 - val_accuracy: 0.8622\n",
            "\n",
            "Epoch 00033: val_loss did not improve from 0.26168\n",
            "Epoch 34/100\n",
            "99/99 [==============================] - 1s 8ms/step - loss: 0.2144 - accuracy: 0.9236 - val_loss: 0.3618 - val_accuracy: 0.9082\n",
            "\n",
            "Epoch 00034: val_loss did not improve from 0.26168\n",
            "Epoch 35/100\n",
            "99/99 [==============================] - 1s 8ms/step - loss: 0.2503 - accuracy: 0.9146 - val_loss: 0.4114 - val_accuracy: 0.8776\n",
            "\n",
            "Epoch 00035: val_loss did not improve from 0.26168\n",
            "Epoch 36/100\n",
            "99/99 [==============================] - 1s 8ms/step - loss: 0.2529 - accuracy: 0.9070 - val_loss: 0.2640 - val_accuracy: 0.9082\n",
            "\n",
            "Epoch 00036: val_loss did not improve from 0.26168\n",
            "Epoch 37/100\n",
            "99/99 [==============================] - 1s 8ms/step - loss: 0.1833 - accuracy: 0.9299 - val_loss: 0.2601 - val_accuracy: 0.8929\n",
            "\n",
            "Epoch 00037: val_loss improved from 0.26168 to 0.26007, saving model to face_emotions.hdf5\n",
            "Epoch 38/100\n",
            "99/99 [==============================] - 1s 8ms/step - loss: 0.2108 - accuracy: 0.9299 - val_loss: 0.4472 - val_accuracy: 0.8622\n",
            "\n",
            "Epoch 00038: val_loss did not improve from 0.26007\n",
            "Epoch 39/100\n",
            "99/99 [==============================] - 1s 8ms/step - loss: 0.1881 - accuracy: 0.9299 - val_loss: 0.2107 - val_accuracy: 0.9184\n",
            "\n",
            "Epoch 00039: val_loss improved from 0.26007 to 0.21065, saving model to face_emotions.hdf5\n",
            "Epoch 40/100\n",
            "99/99 [==============================] - 1s 8ms/step - loss: 0.1530 - accuracy: 0.9478 - val_loss: 0.1908 - val_accuracy: 0.9286\n",
            "\n",
            "Epoch 00040: val_loss improved from 0.21065 to 0.19075, saving model to face_emotions.hdf5\n",
            "Epoch 41/100\n",
            "99/99 [==============================] - 1s 8ms/step - loss: 0.2733 - accuracy: 0.8930 - val_loss: 0.5162 - val_accuracy: 0.8520\n",
            "\n",
            "Epoch 00041: val_loss did not improve from 0.19075\n",
            "Epoch 42/100\n",
            "99/99 [==============================] - 1s 8ms/step - loss: 0.2060 - accuracy: 0.9312 - val_loss: 0.3293 - val_accuracy: 0.9184\n",
            "\n",
            "Epoch 00042: val_loss did not improve from 0.19075\n",
            "Epoch 43/100\n",
            "99/99 [==============================] - 1s 8ms/step - loss: 0.2080 - accuracy: 0.9274 - val_loss: 0.2649 - val_accuracy: 0.9133\n",
            "\n",
            "Epoch 00043: val_loss did not improve from 0.19075\n",
            "Epoch 44/100\n",
            "99/99 [==============================] - 1s 8ms/step - loss: 0.2111 - accuracy: 0.9223 - val_loss: 0.1598 - val_accuracy: 0.9490\n",
            "\n",
            "Epoch 00044: val_loss improved from 0.19075 to 0.15981, saving model to face_emotions.hdf5\n",
            "Epoch 45/100\n",
            "99/99 [==============================] - 1s 8ms/step - loss: 0.1729 - accuracy: 0.9401 - val_loss: 0.1976 - val_accuracy: 0.9337\n",
            "\n",
            "Epoch 00045: val_loss did not improve from 0.15981\n",
            "Epoch 46/100\n",
            "99/99 [==============================] - 1s 8ms/step - loss: 0.1985 - accuracy: 0.9248 - val_loss: 0.2246 - val_accuracy: 0.9235\n",
            "\n",
            "Epoch 00046: val_loss did not improve from 0.15981\n",
            "Epoch 47/100\n",
            "99/99 [==============================] - 1s 8ms/step - loss: 0.1627 - accuracy: 0.9414 - val_loss: 0.2958 - val_accuracy: 0.8878\n",
            "\n",
            "Epoch 00047: val_loss did not improve from 0.15981\n",
            "Epoch 48/100\n",
            "99/99 [==============================] - 1s 8ms/step - loss: 0.1452 - accuracy: 0.9427 - val_loss: 0.2704 - val_accuracy: 0.9133\n",
            "\n",
            "Epoch 00048: val_loss did not improve from 0.15981\n",
            "Epoch 49/100\n",
            "99/99 [==============================] - 1s 8ms/step - loss: 0.1658 - accuracy: 0.9312 - val_loss: 0.2373 - val_accuracy: 0.9184\n",
            "\n",
            "Epoch 00049: val_loss did not improve from 0.15981\n",
            "Epoch 50/100\n",
            "99/99 [==============================] - 1s 8ms/step - loss: 0.1433 - accuracy: 0.9554 - val_loss: 0.2264 - val_accuracy: 0.9235\n",
            "\n",
            "Epoch 00050: val_loss did not improve from 0.15981\n",
            "Epoch 51/100\n",
            "99/99 [==============================] - 1s 8ms/step - loss: 0.1863 - accuracy: 0.9401 - val_loss: 0.2636 - val_accuracy: 0.9184\n",
            "\n",
            "Epoch 00051: val_loss did not improve from 0.15981\n",
            "Epoch 52/100\n",
            "99/99 [==============================] - 1s 8ms/step - loss: 0.1651 - accuracy: 0.9414 - val_loss: 0.3173 - val_accuracy: 0.9082\n",
            "\n",
            "Epoch 00052: val_loss did not improve from 0.15981\n",
            "Epoch 53/100\n",
            "99/99 [==============================] - 1s 8ms/step - loss: 0.2187 - accuracy: 0.9210 - val_loss: 0.2614 - val_accuracy: 0.9337\n",
            "\n",
            "Epoch 00053: val_loss did not improve from 0.15981\n",
            "Epoch 54/100\n",
            "99/99 [==============================] - 1s 8ms/step - loss: 0.1976 - accuracy: 0.9312 - val_loss: 0.1575 - val_accuracy: 0.9286\n",
            "\n",
            "Epoch 00054: val_loss improved from 0.15981 to 0.15754, saving model to face_emotions.hdf5\n",
            "Epoch 55/100\n",
            "99/99 [==============================] - 1s 8ms/step - loss: 0.1565 - accuracy: 0.9439 - val_loss: 0.1982 - val_accuracy: 0.9286\n",
            "\n",
            "Epoch 00055: val_loss did not improve from 0.15754\n",
            "Epoch 56/100\n",
            "99/99 [==============================] - 1s 8ms/step - loss: 0.1570 - accuracy: 0.9414 - val_loss: 0.2825 - val_accuracy: 0.9133\n",
            "\n",
            "Epoch 00056: val_loss did not improve from 0.15754\n",
            "Epoch 57/100\n",
            "99/99 [==============================] - 1s 8ms/step - loss: 0.1442 - accuracy: 0.9427 - val_loss: 0.2741 - val_accuracy: 0.9082\n",
            "\n",
            "Epoch 00057: val_loss did not improve from 0.15754\n",
            "Epoch 58/100\n",
            "99/99 [==============================] - 1s 8ms/step - loss: 0.1402 - accuracy: 0.9554 - val_loss: 0.2465 - val_accuracy: 0.8929\n",
            "\n",
            "Epoch 00058: val_loss did not improve from 0.15754\n",
            "Epoch 59/100\n",
            "99/99 [==============================] - 1s 8ms/step - loss: 0.1265 - accuracy: 0.9490 - val_loss: 0.2020 - val_accuracy: 0.9286\n",
            "\n",
            "Epoch 00059: val_loss did not improve from 0.15754\n",
            "Epoch 60/100\n",
            "99/99 [==============================] - 1s 8ms/step - loss: 0.1314 - accuracy: 0.9516 - val_loss: 0.1915 - val_accuracy: 0.8980\n",
            "\n",
            "Epoch 00060: val_loss did not improve from 0.15754\n",
            "Epoch 61/100\n",
            "99/99 [==============================] - 1s 8ms/step - loss: 0.1658 - accuracy: 0.9261 - val_loss: 0.2076 - val_accuracy: 0.9082\n",
            "\n",
            "Epoch 00061: val_loss did not improve from 0.15754\n",
            "Epoch 62/100\n",
            "99/99 [==============================] - 1s 8ms/step - loss: 0.1128 - accuracy: 0.9554 - val_loss: 0.2084 - val_accuracy: 0.9286\n",
            "\n",
            "Epoch 00062: val_loss did not improve from 0.15754\n",
            "Epoch 63/100\n",
            "99/99 [==============================] - 1s 8ms/step - loss: 0.1149 - accuracy: 0.9554 - val_loss: 0.2142 - val_accuracy: 0.9286\n",
            "\n",
            "Epoch 00063: val_loss did not improve from 0.15754\n",
            "Epoch 64/100\n",
            "99/99 [==============================] - 1s 8ms/step - loss: 0.1166 - accuracy: 0.9669 - val_loss: 0.4048 - val_accuracy: 0.8520\n",
            "\n",
            "Epoch 00064: val_loss did not improve from 0.15754\n",
            "Epoch 65/100\n",
            "99/99 [==============================] - 1s 8ms/step - loss: 0.1660 - accuracy: 0.9401 - val_loss: 0.1316 - val_accuracy: 0.9439\n",
            "\n",
            "Epoch 00065: val_loss improved from 0.15754 to 0.13155, saving model to face_emotions.hdf5\n",
            "Epoch 66/100\n",
            "99/99 [==============================] - 1s 8ms/step - loss: 0.1870 - accuracy: 0.9299 - val_loss: 0.1914 - val_accuracy: 0.9133\n",
            "\n",
            "Epoch 00066: val_loss did not improve from 0.13155\n",
            "Epoch 67/100\n",
            "99/99 [==============================] - 1s 8ms/step - loss: 0.1233 - accuracy: 0.9592 - val_loss: 0.1751 - val_accuracy: 0.9592\n",
            "\n",
            "Epoch 00067: val_loss did not improve from 0.13155\n",
            "Epoch 68/100\n",
            "99/99 [==============================] - 1s 8ms/step - loss: 0.1550 - accuracy: 0.9363 - val_loss: 0.1267 - val_accuracy: 0.9388\n",
            "\n",
            "Epoch 00068: val_loss improved from 0.13155 to 0.12669, saving model to face_emotions.hdf5\n",
            "Epoch 69/100\n",
            "99/99 [==============================] - 1s 8ms/step - loss: 0.0957 - accuracy: 0.9605 - val_loss: 0.2635 - val_accuracy: 0.9388\n",
            "\n",
            "Epoch 00069: val_loss did not improve from 0.12669\n",
            "Epoch 70/100\n",
            "99/99 [==============================] - 1s 8ms/step - loss: 0.1301 - accuracy: 0.9541 - val_loss: 0.2783 - val_accuracy: 0.9133\n",
            "\n",
            "Epoch 00070: val_loss did not improve from 0.12669\n",
            "Epoch 71/100\n",
            "99/99 [==============================] - 1s 8ms/step - loss: 0.1269 - accuracy: 0.9516 - val_loss: 0.1154 - val_accuracy: 0.9643\n",
            "\n",
            "Epoch 00071: val_loss improved from 0.12669 to 0.11545, saving model to face_emotions.hdf5\n",
            "Epoch 72/100\n",
            "99/99 [==============================] - 1s 9ms/step - loss: 0.1283 - accuracy: 0.9516 - val_loss: 0.2657 - val_accuracy: 0.9337\n",
            "\n",
            "Epoch 00072: val_loss did not improve from 0.11545\n",
            "Epoch 73/100\n",
            "99/99 [==============================] - 1s 8ms/step - loss: 0.1099 - accuracy: 0.9694 - val_loss: 0.2379 - val_accuracy: 0.9235\n",
            "\n",
            "Epoch 00073: val_loss did not improve from 0.11545\n",
            "Epoch 74/100\n",
            "99/99 [==============================] - 1s 8ms/step - loss: 0.1097 - accuracy: 0.9592 - val_loss: 0.2053 - val_accuracy: 0.9184\n",
            "\n",
            "Epoch 00074: val_loss did not improve from 0.11545\n",
            "Epoch 75/100\n",
            "99/99 [==============================] - 1s 9ms/step - loss: 0.1512 - accuracy: 0.9478 - val_loss: 0.1096 - val_accuracy: 0.9541\n",
            "\n",
            "Epoch 00075: val_loss improved from 0.11545 to 0.10962, saving model to face_emotions.hdf5\n",
            "Epoch 76/100\n",
            "99/99 [==============================] - 1s 8ms/step - loss: 0.1038 - accuracy: 0.9605 - val_loss: 0.2749 - val_accuracy: 0.8878\n",
            "\n",
            "Epoch 00076: val_loss did not improve from 0.10962\n",
            "Epoch 77/100\n",
            "99/99 [==============================] - 1s 8ms/step - loss: 0.1068 - accuracy: 0.9669 - val_loss: 0.1601 - val_accuracy: 0.9337\n",
            "\n",
            "Epoch 00077: val_loss did not improve from 0.10962\n",
            "Epoch 78/100\n",
            "99/99 [==============================] - 1s 8ms/step - loss: 0.1262 - accuracy: 0.9503 - val_loss: 0.1828 - val_accuracy: 0.9490\n",
            "\n",
            "Epoch 00078: val_loss did not improve from 0.10962\n",
            "Epoch 79/100\n",
            "99/99 [==============================] - 1s 8ms/step - loss: 0.1282 - accuracy: 0.9516 - val_loss: 0.3303 - val_accuracy: 0.8776\n",
            "\n",
            "Epoch 00079: val_loss did not improve from 0.10962\n",
            "Epoch 80/100\n",
            "99/99 [==============================] - 1s 9ms/step - loss: 0.1246 - accuracy: 0.9503 - val_loss: 0.1730 - val_accuracy: 0.9439\n",
            "\n",
            "Epoch 00080: val_loss did not improve from 0.10962\n",
            "Epoch 81/100\n",
            "99/99 [==============================] - 1s 8ms/step - loss: 0.1328 - accuracy: 0.9580 - val_loss: 0.1623 - val_accuracy: 0.9490\n",
            "\n",
            "Epoch 00081: val_loss did not improve from 0.10962\n",
            "Epoch 82/100\n",
            "99/99 [==============================] - 1s 8ms/step - loss: 0.0941 - accuracy: 0.9656 - val_loss: 0.1290 - val_accuracy: 0.9439\n",
            "\n",
            "Epoch 00082: val_loss did not improve from 0.10962\n",
            "Epoch 83/100\n",
            "99/99 [==============================] - 1s 8ms/step - loss: 0.1643 - accuracy: 0.9478 - val_loss: 0.2813 - val_accuracy: 0.8929\n",
            "\n",
            "Epoch 00083: val_loss did not improve from 0.10962\n",
            "Epoch 84/100\n",
            "99/99 [==============================] - 1s 8ms/step - loss: 0.1043 - accuracy: 0.9732 - val_loss: 0.0492 - val_accuracy: 0.9796\n",
            "\n",
            "Epoch 00084: val_loss improved from 0.10962 to 0.04915, saving model to face_emotions.hdf5\n",
            "Epoch 85/100\n",
            "99/99 [==============================] - 1s 8ms/step - loss: 0.0652 - accuracy: 0.9758 - val_loss: 0.1121 - val_accuracy: 0.9592\n",
            "\n",
            "Epoch 00085: val_loss did not improve from 0.04915\n",
            "Epoch 86/100\n",
            "99/99 [==============================] - 1s 8ms/step - loss: 0.0901 - accuracy: 0.9682 - val_loss: 0.1956 - val_accuracy: 0.9439\n",
            "\n",
            "Epoch 00086: val_loss did not improve from 0.04915\n",
            "Epoch 87/100\n",
            "99/99 [==============================] - 1s 8ms/step - loss: 0.1339 - accuracy: 0.9554 - val_loss: 0.0773 - val_accuracy: 0.9694\n",
            "\n",
            "Epoch 00087: val_loss did not improve from 0.04915\n",
            "Epoch 88/100\n",
            "99/99 [==============================] - 1s 8ms/step - loss: 0.1482 - accuracy: 0.9427 - val_loss: 0.3117 - val_accuracy: 0.9082\n",
            "\n",
            "Epoch 00088: val_loss did not improve from 0.04915\n",
            "Epoch 89/100\n",
            "99/99 [==============================] - 1s 9ms/step - loss: 0.0990 - accuracy: 0.9643 - val_loss: 0.3200 - val_accuracy: 0.8776\n",
            "\n",
            "Epoch 00089: val_loss did not improve from 0.04915\n",
            "Epoch 90/100\n",
            "99/99 [==============================] - 1s 8ms/step - loss: 0.1746 - accuracy: 0.9376 - val_loss: 0.2221 - val_accuracy: 0.9286\n",
            "\n",
            "Epoch 00090: val_loss did not improve from 0.04915\n",
            "Epoch 91/100\n",
            "99/99 [==============================] - 1s 8ms/step - loss: 0.1044 - accuracy: 0.9631 - val_loss: 0.1511 - val_accuracy: 0.9592\n",
            "\n",
            "Epoch 00091: val_loss did not improve from 0.04915\n",
            "Epoch 92/100\n",
            "99/99 [==============================] - 1s 8ms/step - loss: 0.1293 - accuracy: 0.9580 - val_loss: 0.1312 - val_accuracy: 0.9643\n",
            "\n",
            "Epoch 00092: val_loss did not improve from 0.04915\n",
            "Epoch 93/100\n",
            "99/99 [==============================] - 1s 8ms/step - loss: 0.0945 - accuracy: 0.9605 - val_loss: 0.1403 - val_accuracy: 0.9643\n",
            "\n",
            "Epoch 00093: val_loss did not improve from 0.04915\n",
            "Epoch 94/100\n",
            "99/99 [==============================] - 1s 8ms/step - loss: 0.1202 - accuracy: 0.9592 - val_loss: 0.3726 - val_accuracy: 0.8776\n",
            "\n",
            "Epoch 00094: val_loss did not improve from 0.04915\n",
            "Epoch 95/100\n",
            "99/99 [==============================] - 1s 8ms/step - loss: 0.0611 - accuracy: 0.9822 - val_loss: 0.2165 - val_accuracy: 0.9184\n",
            "\n",
            "Epoch 00095: val_loss did not improve from 0.04915\n",
            "Epoch 96/100\n",
            "99/99 [==============================] - 1s 8ms/step - loss: 0.1331 - accuracy: 0.9592 - val_loss: 0.2674 - val_accuracy: 0.9133\n",
            "\n",
            "Epoch 00096: val_loss did not improve from 0.04915\n",
            "Epoch 97/100\n",
            "99/99 [==============================] - 1s 8ms/step - loss: 0.1642 - accuracy: 0.9427 - val_loss: 0.2879 - val_accuracy: 0.9133\n",
            "\n",
            "Epoch 00097: val_loss did not improve from 0.04915\n",
            "Epoch 98/100\n",
            "99/99 [==============================] - 1s 8ms/step - loss: 0.0803 - accuracy: 0.9669 - val_loss: 0.1816 - val_accuracy: 0.9388\n",
            "\n",
            "Epoch 00098: val_loss did not improve from 0.04915\n",
            "Epoch 99/100\n",
            "99/99 [==============================] - 1s 9ms/step - loss: 0.1023 - accuracy: 0.9732 - val_loss: 0.1573 - val_accuracy: 0.9541\n",
            "\n",
            "Epoch 00099: val_loss did not improve from 0.04915\n",
            "Epoch 100/100\n",
            "99/99 [==============================] - 1s 9ms/step - loss: 0.1203 - accuracy: 0.9618 - val_loss: 0.2844 - val_accuracy: 0.9184\n",
            "\n",
            "Epoch 00100: val_loss did not improve from 0.04915\n"
          ],
          "name": "stdout"
        }
      ]
    },
    {
      "cell_type": "code",
      "metadata": {
        "id": "IlzQckBTsCeo"
      },
      "source": [
        "acc = history.history['accuracy']\n",
        "val_acc = history.history['val_accuracy']\n",
        "\n",
        "loss = history.history['loss']\n",
        "val_loss = history.history['val_loss']"
      ],
      "execution_count": 18,
      "outputs": []
    },
    {
      "cell_type": "code",
      "metadata": {
        "colab": {
          "base_uri": "https://localhost:8080/",
          "height": 299
        },
        "id": "jJaR4RqosDCX",
        "outputId": "e0383d8c-4701-4046-b824-9226ad36487e"
      },
      "source": [
        "plt.plot(acc, label='Training Accuracy')\n",
        "plt.plot(val_acc, label='Validation Accuracy')\n",
        "plt.legend(loc='lower right')\n",
        "plt.title('Training and Validation Accuracy')"
      ],
      "execution_count": 19,
      "outputs": [
        {
          "output_type": "execute_result",
          "data": {
            "text/plain": [
              "Text(0.5, 1.0, 'Training and Validation Accuracy')"
            ]
          },
          "metadata": {
            "tags": []
          },
          "execution_count": 19
        },
        {
          "output_type": "display_data",
          "data": {
            "image/png": "[encoded data removed]",
            "text/plain": [
              "<Figure size 432x288 with 1 Axes>"
            ]
          },
          "metadata": {
            "tags": [],
            "needs_background": "light"
          }
        }
      ]
    },
    {
      "cell_type": "code",
      "metadata": {
        "colab": {
          "base_uri": "https://localhost:8080/",
          "height": 281
        },
        "id": "lVZ4Lx9lsFo0",
        "outputId": "2e2b6186-c805-4cd3-bc20-f9706b1320df"
      },
      "source": [
        "plt.plot(loss, label='Training Loss')\n",
        "plt.plot(val_loss, label='Validation Loss')\n",
        "plt.legend(loc='upper right')\n",
        "plt.title('Training and Validation Loss')\n",
        "plt.show()"
      ],
      "execution_count": 20,
      "outputs": [
        {
          "output_type": "display_data",
          "data": {
            "image/png": "[encoded data removed]",
            "text/plain": [
              "<Figure size 432x288 with 1 Axes>"
            ]
          },
          "metadata": {
            "tags": [],
            "needs_background": "light"
          }
        }
      ]
    },
    {
      "cell_type": "code",
      "metadata": {
        "colab": {
          "base_uri": "https://localhost:8080/",
          "height": 607
        },
        "id": "Ea2_MgDmsJ0r",
        "outputId": "4d606bc4-5488-45d6-88e6-5db62351728c"
      },
      "source": [
        "import matplotlib.pyplot as plt\n",
        "\n",
        "plt.figure(figsize=(10, 10))\n",
        "for images, labels in validation_ds.take(1):\n",
        "  for i in range(8):\n",
        "    ax = plt.subplot(3, 3, i + 1)\n",
        "    plt.imshow(images[i].numpy().astype(\"uint8\"))\n",
        "    img_array = keras.preprocessing.image.img_to_array(images[i])\n",
        "    img_array = tf.expand_dims(img_array, 0) # Create a batch\n",
        "    predictions = model.predict(img_array)\n",
        "    score = tf.nn.softmax(predictions[0])\n",
        "    plt.ylabel(f\"{i}-Actual : {class_names[labels[i]]}\")\n",
        "    plt.xlabel(f\"{i}-Prediction : {class_names[np.argmax(score)]}\")\n",
        "    ax.xaxis.label.set_color('green')\n",
        "    ax.yaxis.label.set_color('red')"
      ],
      "execution_count": 32,
      "outputs": [
        {
          "output_type": "display_data",
          "data": {
            "image/png": "[encoded data removed]",
            "text/plain": [
              "<Figure size 720x720 with 8 Axes>"
            ]
          },
          "metadata": {
            "tags": [],
            "needs_background": "light"
          }
        }
      ]
    },
    {
      "cell_type": "code",
      "metadata": {
        "id": "oD7xVdjCsQhy"
      },
      "source": [
        ""
      ],
      "execution_count": null,
      "outputs": []
    }
  ]
}